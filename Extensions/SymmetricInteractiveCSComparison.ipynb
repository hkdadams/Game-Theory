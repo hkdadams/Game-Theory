{
 "cells": [
  {
   "cell_type": "markdown",
   "metadata": {},
   "source": [
    "# this is just a test"
   ]
  },
  {
   "cell_type": "code",
   "execution_count": null,
   "metadata": {},
   "outputs": [
    {
     "data": {
      "application/vnd.jupyter.widget-view+json": {
       "model_id": "50b712d497804b099e5adc5ce31643c9",
       "version_major": 2,
       "version_minor": 0
      },
      "text/plain": [
       "interactive(children=(FloatSlider(value=100.0, description='α_d', max=200.0, min=50.0, step=5.0), FloatSlider(…"
      ]
     },
     "metadata": {},
     "output_type": "display_data"
    },
    {
     "data": {
      "text/plain": [
       "<function __main__.update(alpha_d, beta_d, beta1, beta2)>"
      ]
     },
     "execution_count": 1,
     "metadata": {},
     "output_type": "execute_result"
    }
   ],
   "source": [
    "import numpy as np\n",
    "import matplotlib.pyplot as plt\n",
    "from ipywidgets import interact, FloatSlider\n",
    "\n",
    "# Cournot equilibrium function\n",
    "def cournot_equilibrium(alpha_d, beta_d, beta1, beta2):\n",
    "    # Equilibrium quantities for Cournot game\n",
    "    q1 = (alpha_d - 2 * beta1 * beta_d + beta2 * beta_d) / 3\n",
    "    q2 = (alpha_d + beta1 * beta_d - 2 * beta2 * beta_d) / 3\n",
    "    Q = q1 + q2\n",
    "    p = (alpha_d - Q) / beta_d  # Market price\n",
    "    profit1 = q1 * p - beta1 * q1\n",
    "    profit2 = q2 * p - beta2 * q2\n",
    "    return q1, q2, p, profit1, profit2\n",
    "\n",
    "# Stackelberg equilibrium function (Firm 1 is the leader)\n",
    "def stackelberg_equilibrium(alpha_d, beta_d, beta1, beta2):\n",
    "    # Equilibrium quantity for leader \n",
    "    q1 = (alpha_d + beta2 * beta_d - 2 * beta1 * beta_d) / 2\n",
    "    # Follower best response\n",
    "    q2 = (alpha_d - q1 - beta2 * beta_d) / 2\n",
    "    Q = q1 + q2\n",
    "    p = (alpha_d - Q) / beta_d  # Market price\n",
    "    profit1 = q1 * p - beta1 * q1\n",
    "    profit2 = q2 * p - beta2 * q2\n",
    "    return q1, q2, p, profit1, profit2\n",
    "\n",
    "# Interactive update function to display results and visualisations\n",
    "def update(alpha_d, beta_d, beta1, beta2):\n",
    "    # use computed equilibria for both games\n",
    "    q1_c, q2_c, p_c, profit1_c, profit2_c = cournot_equilibrium(alpha_d, beta_d, beta1, beta2)\n",
    "    q1_s, q2_s, p_s, profit1_s, profit2_s = stackelberg_equilibrium(alpha_d, beta_d, beta1, beta2)\n",
    "    \n",
    "    # print equilibrium outcomes\n",
    "    print(\"=== Cournot Equilibrium ===\")\n",
    "    print(f\"Firm 1: Quantity (q1) = {q1_c:.2f}, Profit = {profit1_c:.2f}\")\n",
    "    print(f\"Firm 2: Quantity (q2) = {q2_c:.2f}, Profit = {profit2_c:.2f}\")\n",
    "    print(f\"Market Price: p = {p_c:.2f}\\n\")\n",
    "    \n",
    "    print(\"=== Stackelberg Equilibrium (Firm 1 is Leader) ===\")\n",
    "    print(f\"Firm 1: Quantity (q1) = {q1_s:.2f}, Profit = {profit1_s:.2f}\")\n",
    "    print(f\"Firm 2: Quantity (q2) = {q2_s:.2f}, Profit = {profit2_s:.2f}\")\n",
    "    print(f\"Market Price: p = {p_s:.2f}\\n\")\n",
    "    \n",
    "    # Visualisation: Bar charts for quantities and profits\n",
    "    labels = ['Firm 1', 'Firm 2']\n",
    "    cournot_qty = [q1_c, q2_c]\n",
    "    stackelberg_qty = [q1_s, q2_s]\n",
    "    \n",
    "    fig, ax = plt.subplots(1, 2, figsize=(12, 5))\n",
    "    \n",
    "    # Bar chart for quantities\n",
    "    x = np.arange(len(labels))\n",
    "    width = 0.35\n",
    "    ax[0].bar(x - width/2, cournot_qty, width, label='Cournot', color='skyblue')\n",
    "    ax[0].bar(x + width/2, stackelberg_qty, width, label='Stackelberg', color='salmon')\n",
    "    ax[0].set_xticks(x)\n",
    "    ax[0].set_xticklabels(labels)\n",
    "    ax[0].set_title(\"Equilibrium Quantities\")\n",
    "    ax[0].set_ylabel(\"Quantity\")\n",
    "    ax[0].legend()\n",
    "    \n",
    "    # Bar chart for profits\n",
    "    labels_profit = ['Firm 1', 'Firm 2']\n",
    "    cournot_profit = [profit1_c, profit2_c]\n",
    "    stackelberg_profit = [profit1_s, profit2_s]\n",
    "    x = np.arange(len(labels_profit))\n",
    "    ax[1].bar(x - width/2, cournot_profit, width, label='Cournot', color='lightgreen')\n",
    "    ax[1].bar(x + width/2, stackelberg_profit, width, label='Stackelberg', color='violet')\n",
    "    ax[1].set_xticks(x)\n",
    "    ax[1].set_xticklabels(labels_profit)\n",
    "    ax[1].set_title(\"Equilibrium Profits\")\n",
    "    ax[1].set_ylabel(\"Profit\")\n",
    "    ax[1].legend()\n",
    "    \n",
    "    plt.tight_layout()\n",
    "    plt.show()\n",
    "\n",
    "# Create interactive widgets to vary parameters\n",
    "interact(update,\n",
    "         alpha_d=FloatSlider(value=100, min=50, max=200, step=5, description='α_d'),\n",
    "         beta_d=FloatSlider(value=0.5, min=0, max=10.0, step=0.1, description='β_d'),\n",
    "         beta1=FloatSlider(value=0.5, min=0, max=10.0, step=0.1, description='β1'),\n",
    "         beta2=FloatSlider(value=0.1, min=0, max=10.0, step=0.1, description='β2'))\n"
   ]
  }
 ],
 "metadata": {
  "kernelspec": {
   "display_name": "Python 3",
   "language": "python",
   "name": "python3"
  },
  "language_info": {
   "codemirror_mode": {
    "name": "ipython",
    "version": 3
   },
   "file_extension": ".py",
   "mimetype": "text/x-python",
   "name": "python",
   "nbconvert_exporter": "python",
   "pygments_lexer": "ipython3",
   "version": "3.9.6"
  }
 },
 "nbformat": 4,
 "nbformat_minor": 2
}
